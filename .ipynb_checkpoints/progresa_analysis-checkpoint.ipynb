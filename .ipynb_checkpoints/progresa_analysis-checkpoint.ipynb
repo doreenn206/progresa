{
 "cells": [
  {
   "cell_type": "markdown",
   "metadata": {
    "ein.tags": "worksheet-0",
    "slideshow": {
     "slide_type": "-"
    }
   },
   "source": [
    "## Introduction \n",
    "\n",
    "The [Progresa\n",
    "program](http://en.wikipedia.org/wiki/Oportunidades), a government\n",
    "social assistance program in Mexico. This program, as well as the\n",
    "details of its impact, are described in the paper \"[School subsidies\n",
    "for the poor: evaluating the Mexican Progresa poverty\n",
    "program](http://www.sciencedirect.com/science/article/pii/S0304387803001858)\",\n",
    "by Paul Shultz (available on Canvas).   \n",
    "\n",
    "The goal is to implement some of the basic\n",
    "econometric techniques to measure the impact of Progresa on secondary school enrollment rates. The timeline\n",
    "of the program was:\n",
    "\n",
    " * Baseline survey conducted in 1997\n",
    " * Intervention begins in 1998, \"Wave 1\" of data collected in 1998\n",
    " * \"Wave 2 of data\" collected in 1999\n",
    " * Evaluation ends in 2000, at which point the control villages were treated. \n",
    " \n",
    "The data are actual data collected to evaluate the impact of\n",
    "the Progresa program.  In this file, each row corresponds to an\n",
    "observation taken for a given child for a given year. There are two\n",
    "years of data (1997 and 1998), and just under 40,000 children who are\n",
    "surveyed in both years.  For each child-year observation, the\n",
    "following variables are collected:\n",
    "\n",
    "| Variable name | Description|\n",
    "|------|------|\n",
    "|year\t  |year in which data is collected\n",
    "|sex\t  |male = 1|\n",
    "|indig\t  |indigenous = 1|\n",
    "|dist_sec |nearest distance to a secondary school|\n",
    "|sc\t      |enrolled in school in year of survey|\n",
    "|grc      |grade enrolled|\n",
    "|fam_n    |family size|\n",
    "|min_dist |\tmin distance to an urban center|\n",
    "|dist_cap |\tmin distance to the capital|\n",
    "|poor     |\tpoor = \"pobre\"|\n",
    "|progresa |treatment = \"basal\"|\n",
    "|hohedu\t  |years of schooling of head of household|\n",
    "|hohwag\t  |monthly wages of head of household|\n",
    "|welfare_index|\twelfare index used to classify poor|\n",
    "|hohsex\t|gender of head of household (male=1)|\n",
    "|hohage\t|age of head of household|\n",
    "|age\t|years old|\n",
    "|folnum\t|individual id|\n",
    "|village|\tvillage id|\n",
    "|sc97\t|schooling in 1997|\n"
   ]
  },
  {
   "cell_type": "code",
   "execution_count": 4,
   "metadata": {},
   "outputs": [],
   "source": [
    "import matplotlib.pyplot as plt\n",
    "import pandas as pd\n",
    "import numpy as np\n",
    "import math \n",
    "import scipy, scipy.stats\n",
    "from collections import OrderedDict\n",
    "from scipy.stats import ttest_ind\n",
    "import statsmodels.api as sm\n",
    "import statsmodels.formula.api as smf"
   ]
  },
  {
   "cell_type": "markdown",
   "metadata": {
    "ein.tags": "worksheet-0",
    "slideshow": {
     "slide_type": "-"
    }
   },
   "source": [
    "## Part 1: Descriptive analysis\n",
    "\n",
    "### 1.1\tSummary Statistics\n",
    "\n",
    "Report summary statistics (mean, standard deviation, and number of missings) for all of\n",
    "the demographic variables in the dataset (i.e., everything except\n",
    "year, folnum, village).  Present the actual levels for 'progresa' and\n",
    "'poor'.  Do these fit with the documentation above?\n",
    "\n",
    "Present these in a single table alphabetized\n",
    "by variable name. Do NOT simply expect the grader to scroll through\n",
    "your output!"
   ]
  },
  {
   "cell_type": "code",
   "execution_count": null,
   "metadata": {},
   "outputs": [],
   "source": [
    "df = pd.read_csv('progresa_sample.csv.gz')\n",
    "df = pd.DataFrame(df)"
   ]
  },
  {
   "cell_type": "code",
   "execution_count": 272,
   "metadata": {
    "autoscroll": false,
    "ein.tags": "worksheet-0",
    "slideshow": {
     "slide_type": "-"
    }
   },
   "outputs": [],
   "source": [
    "df = pd.read_csv('progresa_sample.csv.gz')\n",
    "df = pd.DataFrame(df)\n",
    "df.drop('year', axis=1, inplace=True)\n",
    "df.drop('folnum', axis=1, inplace=True)\n",
    "df.drop('village', axis=1, inplace=True)\n",
    "# For progresa: basal = treatment which we will replace with 1, and w/o treatment will stay as 0 \n",
    "# For poor: probre = 0, and no probre = 1\n",
    "df['poor'] = df['poor'].replace(['pobre'], 0)\n",
    "df['poor'] = df['poor'].replace(['no pobre'], 1)\n",
    "df['progresa'] = df['progresa'].replace(['basal'], 1)\n",
    "df['progresa'] = df['progresa'].replace(['0'], 0)\n",
    "var_name = np.sort(np.asarray(df.columns))\n",
    "\n",
    "mean = pd.DataFrame.mean(df)\n",
    "stdev = pd.DataFrame.std(df)\n",
    "missing = df.isnull().sum(axis=0)\n"
   ]
  },
  {
   "cell_type": "code",
   "execution_count": 274,
   "metadata": {},
   "outputs": [
    {
     "data": {
      "text/html": [
       "<div>\n",
       "<style>\n",
       "    .dataframe thead tr:only-child th {\n",
       "        text-align: right;\n",
       "    }\n",
       "\n",
       "    .dataframe thead th {\n",
       "        text-align: left;\n",
       "    }\n",
       "\n",
       "    .dataframe tbody tr th {\n",
       "        vertical-align: top;\n",
       "    }\n",
       "</style>\n",
       "<table border=\"1\" class=\"dataframe\">\n",
       "  <thead>\n",
       "    <tr style=\"text-align: right;\">\n",
       "      <th></th>\n",
       "      <th>var_name</th>\n",
       "      <th>mean</th>\n",
       "      <th>stdev</th>\n",
       "      <th>missing</th>\n",
       "    </tr>\n",
       "  </thead>\n",
       "  <tbody>\n",
       "    <tr>\n",
       "      <th>15</th>\n",
       "      <td>age</td>\n",
       "      <td>11.366460</td>\n",
       "      <td>3.167744</td>\n",
       "      <td>0</td>\n",
       "    </tr>\n",
       "    <tr>\n",
       "      <th>7</th>\n",
       "      <td>dist_cap</td>\n",
       "      <td>147.674452</td>\n",
       "      <td>76.063134</td>\n",
       "      <td>0</td>\n",
       "    </tr>\n",
       "    <tr>\n",
       "      <th>2</th>\n",
       "      <td>dist_sec</td>\n",
       "      <td>2.418910</td>\n",
       "      <td>2.234109</td>\n",
       "      <td>0</td>\n",
       "    </tr>\n",
       "    <tr>\n",
       "      <th>5</th>\n",
       "      <td>fam_n</td>\n",
       "      <td>7.215715</td>\n",
       "      <td>2.352900</td>\n",
       "      <td>0</td>\n",
       "    </tr>\n",
       "    <tr>\n",
       "      <th>4</th>\n",
       "      <td>grc</td>\n",
       "      <td>3.963537</td>\n",
       "      <td>2.499063</td>\n",
       "      <td>6549</td>\n",
       "    </tr>\n",
       "    <tr>\n",
       "      <th>16</th>\n",
       "      <td>grc97</td>\n",
       "      <td>3.705372</td>\n",
       "      <td>2.572387</td>\n",
       "      <td>0</td>\n",
       "    </tr>\n",
       "    <tr>\n",
       "      <th>14</th>\n",
       "      <td>hohage</td>\n",
       "      <td>44.436717</td>\n",
       "      <td>11.620372</td>\n",
       "      <td>10</td>\n",
       "    </tr>\n",
       "    <tr>\n",
       "      <th>10</th>\n",
       "      <td>hohedu</td>\n",
       "      <td>2.768104</td>\n",
       "      <td>2.656106</td>\n",
       "      <td>0</td>\n",
       "    </tr>\n",
       "    <tr>\n",
       "      <th>13</th>\n",
       "      <td>hohsex</td>\n",
       "      <td>0.925185</td>\n",
       "      <td>0.263095</td>\n",
       "      <td>20</td>\n",
       "    </tr>\n",
       "    <tr>\n",
       "      <th>11</th>\n",
       "      <td>hohwag</td>\n",
       "      <td>586.985312</td>\n",
       "      <td>788.133664</td>\n",
       "      <td>0</td>\n",
       "    </tr>\n",
       "    <tr>\n",
       "      <th>1</th>\n",
       "      <td>indig</td>\n",
       "      <td>0.298324</td>\n",
       "      <td>0.457525</td>\n",
       "      <td>300</td>\n",
       "    </tr>\n",
       "    <tr>\n",
       "      <th>6</th>\n",
       "      <td>min_dist</td>\n",
       "      <td>103.447520</td>\n",
       "      <td>42.089441</td>\n",
       "      <td>0</td>\n",
       "    </tr>\n",
       "    <tr>\n",
       "      <th>8</th>\n",
       "      <td>poor</td>\n",
       "      <td>0.153502</td>\n",
       "      <td>0.360473</td>\n",
       "      <td>0</td>\n",
       "    </tr>\n",
       "    <tr>\n",
       "      <th>9</th>\n",
       "      <td>progresa</td>\n",
       "      <td>0.615663</td>\n",
       "      <td>0.486441</td>\n",
       "      <td>0</td>\n",
       "    </tr>\n",
       "    <tr>\n",
       "      <th>3</th>\n",
       "      <td>sc</td>\n",
       "      <td>0.819818</td>\n",
       "      <td>0.384342</td>\n",
       "      <td>8453</td>\n",
       "    </tr>\n",
       "    <tr>\n",
       "      <th>17</th>\n",
       "      <td>sc97</td>\n",
       "      <td>0.813922</td>\n",
       "      <td>0.389172</td>\n",
       "      <td>3872</td>\n",
       "    </tr>\n",
       "    <tr>\n",
       "      <th>0</th>\n",
       "      <td>sex</td>\n",
       "      <td>0.512211</td>\n",
       "      <td>0.499854</td>\n",
       "      <td>24</td>\n",
       "    </tr>\n",
       "    <tr>\n",
       "      <th>12</th>\n",
       "      <td>welfare_index</td>\n",
       "      <td>690.346564</td>\n",
       "      <td>139.491130</td>\n",
       "      <td>210</td>\n",
       "    </tr>\n",
       "  </tbody>\n",
       "</table>\n",
       "</div>"
      ],
      "text/plain": [
       "         var_name        mean       stdev  missing\n",
       "15            age   11.366460    3.167744        0\n",
       "7        dist_cap  147.674452   76.063134        0\n",
       "2        dist_sec    2.418910    2.234109        0\n",
       "5           fam_n    7.215715    2.352900        0\n",
       "4             grc    3.963537    2.499063     6549\n",
       "16          grc97    3.705372    2.572387        0\n",
       "14         hohage   44.436717   11.620372       10\n",
       "10         hohedu    2.768104    2.656106        0\n",
       "13         hohsex    0.925185    0.263095       20\n",
       "11         hohwag  586.985312  788.133664        0\n",
       "1           indig    0.298324    0.457525      300\n",
       "6        min_dist  103.447520   42.089441        0\n",
       "8            poor    0.153502    0.360473        0\n",
       "9        progresa    0.615663    0.486441        0\n",
       "3              sc    0.819818    0.384342     8453\n",
       "17           sc97    0.813922    0.389172     3872\n",
       "0             sex    0.512211    0.499854       24\n",
       "12  welfare_index  690.346564  139.491130      210"
      ]
     },
     "execution_count": 274,
     "metadata": {},
     "output_type": "execute_result"
    }
   ],
   "source": [
    "data = pd.DataFrame(OrderedDict({\"var_name\": df.columns, \"mean\": mean.values, \"stdev\": stdev.values, \"missing\": missing.values}))\n",
    "data = data.sort_values(\"var_name\")\n",
    "data\n"
   ]
  },
  {
   "cell_type": "markdown",
   "metadata": {
    "ein.tags": "worksheet-0",
    "slideshow": {
     "slide_type": "-"
    }
   },
   "source": [
    "### 1.2 Differences at baseline?\n",
    "\n",
    "Are the baseline (1997) demographic characteristics **for the poor**\n",
    "different in treatment and control villages? Hint: Use a T-Test to\n",
    "determine whether there is a statistically significant difference in\n",
    "the average values of each of the variables in the dataset. Focus only\n",
    "on the data from 1997 for individuals who are poor (i.e.,\n",
    "poor=='pobre').\n",
    "\n",
    "Present your results in a single table with the following columns and 14 (or so) rows:\n",
    "\n",
    "| Variable name | Average value (Treatment villages) | Average value (Control villages) | Difference (Treat - Control) | p-value |\n",
    "|------|------|------|------|------|\n",
    "|Male|?|?|?|?|\n"
   ]
  },
  {
   "cell_type": "code",
   "execution_count": null,
   "metadata": {},
   "outputs": [],
   "source": [
    "# your code here\n",
    "df_poor = pd.read_csv('progresa_sample.csv.gz')\n",
    "df_poor = pd.DataFrame(df_poor)\n",
    "\n",
    "# Clean Variables\n",
    "df_poor['poor'] = df_poor['poor'].replace(['pobre'], 0)\n",
    "df_poor['poor'] = df_poor['poor'].replace(['no pobre'], 1)\n",
    "df_poor['progresa'] = df_poor['progresa'].replace(['basal'], 1)\n",
    "df_poor['progresa'] = df_poor['progresa'].replace(['0'], 0)\n",
    "df_poor = df_poor.query('poor < 1')\n",
    "df_poor = df_poor.query('year == 97')\n",
    "\n",
    "# # Check if we have data only on the poor \n",
    "# check = df_poor['poor'].unique()\n",
    "df_poor = pd.DataFrame.dropna(df_poor)\n",
    "# Converting the t\n",
    "t = df_poor.query('progresa > 0')\n",
    "no_t = df_poor.query('progresa < 1')\n",
    "t_mean = pd.DataFrame.mean(t)\n",
    "no_t_mean = pd.DataFrame.mean(no_t)\n",
    "difference = t_mean - no_t_mean\n",
    "p_value = ttest_ind(no_t, t)\n",
    "\n",
    "data_poor = pd.DataFrame(OrderedDict({\"Variable_Name\": df_poor.columns,\"Avg_Val_Control\": no_t_mean.values,  \"Avg_Val_Treatment\": t_mean.values,  \n",
    "                                     \"Difference\": difference.values, \"p_value\": p_value[1]}))\n",
    "# Remove poor and progresa \n",
    "data_poor = data_poor.drop([0, 9, 10, 17, 18])\n",
    "data_poor"
   ]
  },
  {
   "cell_type": "code",
   "execution_count": 286,
   "metadata": {},
   "outputs": [
    {
     "data": {
      "text/html": [
       "<div>\n",
       "<style>\n",
       "    .dataframe thead tr:only-child th {\n",
       "        text-align: right;\n",
       "    }\n",
       "\n",
       "    .dataframe thead th {\n",
       "        text-align: left;\n",
       "    }\n",
       "\n",
       "    .dataframe tbody tr th {\n",
       "        vertical-align: top;\n",
       "    }\n",
       "</style>\n",
       "<table border=\"1\" class=\"dataframe\">\n",
       "  <thead>\n",
       "    <tr style=\"text-align: right;\">\n",
       "      <th></th>\n",
       "      <th>Variable_Name</th>\n",
       "      <th>Avg_Val_Treatment</th>\n",
       "      <th>Avg_Val_Control</th>\n",
       "      <th>Difference</th>\n",
       "      <th>p_value</th>\n",
       "    </tr>\n",
       "  </thead>\n",
       "  <tbody>\n",
       "    <tr>\n",
       "      <th>1</th>\n",
       "      <td>sex</td>\n",
       "      <td>0.520268</td>\n",
       "      <td>0.506556</td>\n",
       "      <td>0.013713</td>\n",
       "      <td>1.956962e-02</td>\n",
       "    </tr>\n",
       "    <tr>\n",
       "      <th>7</th>\n",
       "      <td>min_dist</td>\n",
       "      <td>107.395231</td>\n",
       "      <td>103.098348</td>\n",
       "      <td>4.296884</td>\n",
       "      <td>1.936661e-18</td>\n",
       "    </tr>\n",
       "    <tr>\n",
       "      <th>8</th>\n",
       "      <td>dist_cap</td>\n",
       "      <td>151.801472</td>\n",
       "      <td>154.492095</td>\n",
       "      <td>-2.690622</td>\n",
       "      <td>3.414194e-03</td>\n",
       "    </tr>\n",
       "    <tr>\n",
       "      <th>11</th>\n",
       "      <td>hohedu</td>\n",
       "      <td>2.726729</td>\n",
       "      <td>2.660982</td>\n",
       "      <td>0.065747</td>\n",
       "      <td>2.613239e-02</td>\n",
       "    </tr>\n",
       "    <tr>\n",
       "      <th>12</th>\n",
       "      <td>hohwag</td>\n",
       "      <td>550.207086</td>\n",
       "      <td>580.694452</td>\n",
       "      <td>-30.487366</td>\n",
       "      <td>2.727661e-04</td>\n",
       "    </tr>\n",
       "    <tr>\n",
       "      <th>13</th>\n",
       "      <td>welfare_index</td>\n",
       "      <td>656.810476</td>\n",
       "      <td>661.593513</td>\n",
       "      <td>-4.783037</td>\n",
       "      <td>3.724043e-04</td>\n",
       "    </tr>\n",
       "    <tr>\n",
       "      <th>15</th>\n",
       "      <td>hohage</td>\n",
       "      <td>43.631234</td>\n",
       "      <td>44.270717</td>\n",
       "      <td>-0.639483</td>\n",
       "      <td>1.925767e-06</td>\n",
       "    </tr>\n",
       "  </tbody>\n",
       "</table>\n",
       "</div>"
      ],
      "text/plain": [
       "    Variable_Name  Avg_Val_Treatment  Avg_Val_Control  Difference  \\\n",
       "1             sex           0.520268         0.506556    0.013713   \n",
       "7        min_dist         107.395231       103.098348    4.296884   \n",
       "8        dist_cap         151.801472       154.492095   -2.690622   \n",
       "11         hohedu           2.726729         2.660982    0.065747   \n",
       "12         hohwag         550.207086       580.694452  -30.487366   \n",
       "13  welfare_index         656.810476       661.593513   -4.783037   \n",
       "15         hohage          43.631234        44.270717   -0.639483   \n",
       "\n",
       "         p_value  \n",
       "1   1.956962e-02  \n",
       "7   1.936661e-18  \n",
       "8   3.414194e-03  \n",
       "11  2.613239e-02  \n",
       "12  2.727661e-04  \n",
       "13  3.724043e-04  \n",
       "15  1.925767e-06  "
      ]
     },
     "execution_count": 286,
     "metadata": {},
     "output_type": "execute_result"
    }
   ],
   "source": [
    "significant = data_poor.query('p_value < .05')\n",
    "significant "
   ]
  },
  {
   "cell_type": "markdown",
   "metadata": {
    "ein.tags": "worksheet-0",
    "slideshow": {
     "slide_type": "-"
    }
   },
   "source": [
    "### 1.3 Interpretation\n",
    "\n",
    "* A: Are there statistically significant differences between treatment and control villages as baseline? \n",
    "* B: Why does it matter if there are differences at baseline?\n",
    "* C: What does this imply about how to measure the impact of the treatment?"
   ]
  },
  {
   "cell_type": "markdown",
   "metadata": {},
   "source": [
    "#### Interpretation \n",
    "* A: There are few significant differences between treatment and control villages as baseline, however these do not include the entrollment rate. These include head of household in eduation/wages, and minimum distance to an urban center and to the capital. \n",
    "\n",
    "* B: These factors matter because these could impact a part of a change in enrollment that are NOT caused by the Progresa program, which we are testing for. We are assumming that these groups are picked randomly so there should be no other differences within our repreasentative groups in this experiment. It should be so that both groups are equally similar. \n",
    "\n",
    "* C: Since there are some variables that are significantly different in both the control and experimental groups, we must take into account these factors when observing if the Progresa program had a positive/negative affect on the enrollment rates. "
   ]
  },
  {
   "cell_type": "markdown",
   "metadata": {
    "ein.tags": "worksheet-0",
    "slideshow": {
     "slide_type": "-"
    }
   },
   "source": [
    "### 1.4 Graphical exploration, part 1\n",
    "\n",
    "For each level of household head education, compute the average\n",
    "enrollment rate in 1997. Create a scatterplot that shows this\n",
    "relationship. What do you notice?"
   ]
  },
  {
   "cell_type": "code",
   "execution_count": 305,
   "metadata": {
    "autoscroll": false,
    "ein.tags": "worksheet-0",
    "scrolled": true,
    "slideshow": {
     "slide_type": "-"
    }
   },
   "outputs": [
    {
     "data": {
      "image/png": "[encoded data removed]",
      "text/plain": [
       "<matplotlib.figure.Figure at 0x16d75f10ef0>"
      ]
     },
     "metadata": {},
     "output_type": "display_data"
    }
   ],
   "source": [
    "df_97 = pd.read_csv('progresa_sample.csv.gz')\n",
    "df_97 = pd.DataFrame(df_97.query('year==97').groupby('hohedu', as_index=False)['sc'].mean())\n",
    "graph = df_97.plot(x='hohedu', y='sc', kind='scatter')\n",
    "plt.show()"
   ]
  },
  {
   "cell_type": "markdown",
   "metadata": {
    "ein.tags": "worksheet-0",
    "slideshow": {
     "slide_type": "-"
    }
   },
   "source": [
    "#### Interpretation \n",
    "The scatter plot shows that there is generally a positive correlation between head of household education and the average enrollment rate within the year 1997 with the exception of some dips. "
   ]
  },
  {
   "cell_type": "markdown",
   "metadata": {
    "ein.tags": "worksheet-0",
    "slideshow": {
     "slide_type": "-"
    }
   },
   "source": [
    "### 1.5 Graphical exploration, part 2\n",
    "\n",
    "Create a histogram of village enrollment rates **among poor households\n",
    "in treated villages**, before and after treatment.  Specifically, for\n",
    "each village, calculate the average rate of enrollment of poor\n",
    "households in treated villages in 1997, then compute the average rate\n",
    "of enrollment of poor households in treated villages in 1998. Create\n",
    "two separate histograms showing the distribution of these average\n",
    "enrollments rates, one histogram for 1997 and one histogram for\n",
    "1998. On each histogram, draw a vertical line that intersects the\n",
    "x-axis at the average value (across all households). Does there appear\n",
    "to be a difference? Is this difference statistically significant?"
   ]
  },
  {
   "cell_type": "code",
   "execution_count": 417,
   "metadata": {
    "autoscroll": false,
    "ein.tags": "worksheet-0",
    "slideshow": {
     "slide_type": "-"
    }
   },
   "outputs": [
    {
     "data": {
      "image/png": "[encoded data removed]",
      "text/plain": [
       "<matplotlib.figure.Figure at 0x16d00ef2780>"
      ]
     },
     "metadata": {},
     "output_type": "display_data"
    }
   ],
   "source": [
    "treated_97 = pd.read_csv('progresa_sample.csv.gz')\n",
    "treated_97 = pd.DataFrame(treated_97.query('year==97').query('progresa==\"basal\"').query('poor==\"pobre\"'))\n",
    "treated_97 = pd.DataFrame(treated_97.groupby(['village'], as_index=False)['sc'].mean())\n",
    "avg_97 = treated_97['sc'].mean()\n",
    "plt.hist(treated_97['sc'], facecolor='r')\n",
    "plt.title('Distribution of Treated Avg Enrollment in Villages - 1997')\n",
    "plt.text(.7, 50, 'avg:'+str(round(avg_97, 4)))\n",
    "plt.ylabel('Frequency')\n",
    "plt.xlabel('Enrollment Rate')\n",
    "plt.axvline(x= avg_97)\n",
    "plt.show()\n",
    " "
   ]
  },
  {
   "cell_type": "code",
   "execution_count": 419,
   "metadata": {},
   "outputs": [
    {
     "data": {
      "image/png": "[encoded data removed]",
      "text/plain": [
       "<matplotlib.figure.Figure at 0x16d004c99e8>"
      ]
     },
     "metadata": {},
     "output_type": "display_data"
    }
   ],
   "source": [
    "treated_98 = pd.read_csv('progresa_sample.csv.gz')\n",
    "treated_98 = pd.DataFrame(treated_98.query('year==98').query('progresa==\"basal\"').query('poor==\"pobre\"'))\n",
    "treated_98 = pd.DataFrame(treated_98.groupby(['village'], as_index=False)['sc'].mean())\n",
    "avg_98 = treated_98['sc'].mean()\n",
    " \n",
    "plt.hist(treated_98['sc'], facecolor='y')\n",
    "plt.text(.6, 50, 'avg:'+str(round(avg_98, 4)))\n",
    "plt.title('Distribution of Treated Avg Enrollment in Villages - 1998')\n",
    "plt.ylabel('Frequency')\n",
    "plt.xlabel('Enrollment Rate')\n",
    "plt.axvline(x= avg_98)\n",
    "plt.show()"
   ]
  },
  {
   "cell_type": "code",
   "execution_count": 420,
   "metadata": {},
   "outputs": [
    {
     "data": {
      "text/plain": [
       "Ttest_indResult(statistic=-2.0157134865156379, pvalue=0.04424870036572115)"
      ]
     },
     "execution_count": 420,
     "metadata": {},
     "output_type": "execute_result"
    }
   ],
   "source": [
    "p_value = ttest_ind(treated_97['sc'], treated_98['sc'])\n",
    "p_value "
   ]
  },
  {
   "cell_type": "markdown",
   "metadata": {
    "ein.tags": "worksheet-0",
    "slideshow": {
     "slide_type": "-"
    }
   },
   "source": [
    "Looking at both histograms, the year 1997 seems to be more normally distributed while the year 1998 is a bit more left skewed, with higher enrollment rates > .7. The p-value that is < .05 suggests that we can reject the null hypothesis and that two means are statistically significant in difference. "
   ]
  },
  {
   "cell_type": "markdown",
   "metadata": {
    "ein.tags": "worksheet-0",
    "slideshow": {
     "slide_type": "-"
    }
   },
   "source": [
    "## Part 2: Measuring Impact\n",
    "\n",
    "Our goal is to estimate the causal impact of the PROGRESA program on\n",
    "the social and economic outcomes of individuals in Mexico. We will\n",
    "focus on the impact of the program on the poor (those with\n",
    "poor=='pobre'), since only the poor were eligible to receive the\n",
    "PROGRESA assistance.\n",
    "\n",
    "### 2.1 Simple differences: T-test\n",
    "\n",
    "Begin by estimating the impact of Progresa using \"simple differences.\"\n",
    "Restricting yourself to data from 1998 (after treatment), calculate\n",
    "the average enrollment rate among **poor** households in the Treatment\n",
    "villages and the average enrollment rate among **poor** households in\n",
    "the control villages. Use a t-test to determine if this difference is\n",
    "statistically significant. What do you conclude?"
   ]
  },
  {
   "cell_type": "code",
   "execution_count": 495,
   "metadata": {
    "autoscroll": false,
    "ein.tags": "worksheet-0",
    "slideshow": {
     "slide_type": "-"
    }
   },
   "outputs": [
    {
     "name": "stdout",
     "output_type": "stream",
     "text": [
      "Control Averages - 1998: 0.810923092511906\n",
      "Treatment Avgerages - 1998: 0.849257030578411\n",
      "Difference in Averages: 0.03833393806650498\n",
      "Ttest_indResult(statistic=-8.1016503053003746, pvalue=5.656455605358843e-16)\n"
     ]
    }
   ],
   "source": [
    "df_98 = pd.read_csv('progresa_sample.csv.gz')\n",
    "df_98 = pd.DataFrame(df_98.query('year==98').query('poor==\"pobre\"')).dropna()\n",
    "control_98 = df_98.query('progresa==\"0\"')\n",
    "treatment_98 = df_98.query('progresa==\"basal\"')\n",
    "# Averages\n",
    "print(\"Control Averages - 1998:\", control_98['sc'].mean())\n",
    "print(\"Treatment Avgerages - 1998:\", treatment_98['sc'].mean())\n",
    "print(\"Difference in Averages:\",  treatment_98['sc'].mean() - control_98['sc'].mean())\n",
    "# T-test\n",
    "print(ttest_ind(control_98['sc'], treatment_98['sc']))"
   ]
  },
  {
   "cell_type": "markdown",
   "metadata": {
    "ein.tags": "worksheet-0",
    "slideshow": {
     "slide_type": "-"
    }
   },
   "source": [
    "In the year 1998, the difference in means of the control and treatment groups is .038, giving a statistically significant p-value of 5.6e-16. \n",
    "This means that we can conclude the enrollment rate means are statistically significant in different, and we can reject the null hypothesis. "
   ]
  },
  {
   "cell_type": "markdown",
   "metadata": {
    "ein.tags": "worksheet-0",
    "slideshow": {
     "slide_type": "-"
    }
   },
   "source": [
    "### 2.2 Simple differences: Regression\n",
    "\n",
    "Estimate the effects of Progresa on enrollment using a regression\n",
    "model, by regressing the 1998 enrollment rates **of the poor** on\n",
    "treatment assignment.  Do not include any additional control\n",
    "variables.\n",
    "Discuss the following:\n",
    "\n",
    "* Based on this model, how much did Progresa increase the likelihood of a child enrolling?\n",
    "* How does your regression estimate compare to your t-test estimate from part 2.1?\n",
    "* Based on this regression model, can we reject the null hypothesis that the treatment effects are zero? \n",
    "* What is the counterfactual assumption underlying this regression?\n",
    "\n",
    "Note: I recommend to use statsmodels.formula.api as this allows to use\n",
    "convenient R-style formulas and provedes nice summaries of the results."
   ]
  },
  {
   "cell_type": "code",
   "execution_count": 496,
   "metadata": {
    "autoscroll": false,
    "ein.tags": "worksheet-0",
    "slideshow": {
     "slide_type": "-"
    }
   },
   "outputs": [
    {
     "data": {
      "text/html": [
       "<table class=\"simpletable\">\n",
       "<caption>OLS Regression Results</caption>\n",
       "<tr>\n",
       "  <th>Dep. Variable:</th>           <td>sc</td>        <th>  R-squared:         </th> <td>   0.003</td> \n",
       "</tr>\n",
       "<tr>\n",
       "  <th>Model:</th>                   <td>OLS</td>       <th>  Adj. R-squared:    </th> <td>   0.002</td> \n",
       "</tr>\n",
       "<tr>\n",
       "  <th>Method:</th>             <td>Least Squares</td>  <th>  F-statistic:       </th> <td>   65.64</td> \n",
       "</tr>\n",
       "<tr>\n",
       "  <th>Date:</th>             <td>Mon, 12 Feb 2018</td> <th>  Prob (F-statistic):</th> <td>5.66e-16</td> \n",
       "</tr>\n",
       "<tr>\n",
       "  <th>Time:</th>                 <td>10:18:18</td>     <th>  Log-Likelihood:    </th> <td> -11171.</td> \n",
       "</tr>\n",
       "<tr>\n",
       "  <th>No. Observations:</th>      <td> 26155</td>      <th>  AIC:               </th> <td>2.235e+04</td>\n",
       "</tr>\n",
       "<tr>\n",
       "  <th>Df Residuals:</th>          <td> 26153</td>      <th>  BIC:               </th> <td>2.236e+04</td>\n",
       "</tr>\n",
       "<tr>\n",
       "  <th>Df Model:</th>              <td>     1</td>      <th>                     </th>     <td> </td>    \n",
       "</tr>\n",
       "<tr>\n",
       "  <th>Covariance Type:</th>      <td>nonrobust</td>    <th>                     </th>     <td> </td>    \n",
       "</tr>\n",
       "</table>\n",
       "<table class=\"simpletable\">\n",
       "<tr>\n",
       "          <td></td>             <th>coef</th>     <th>std err</th>      <th>t</th>      <th>P>|t|</th>  <th>[0.025</th>    <th>0.975]</th>  \n",
       "</tr>\n",
       "<tr>\n",
       "  <th>Intercept</th>         <td>    0.8109</td> <td>    0.004</td> <td>  217.190</td> <td> 0.000</td> <td>    0.804</td> <td>    0.818</td>\n",
       "</tr>\n",
       "<tr>\n",
       "  <th>progresa[T.basal]</th> <td>    0.0383</td> <td>    0.005</td> <td>    8.102</td> <td> 0.000</td> <td>    0.029</td> <td>    0.048</td>\n",
       "</tr>\n",
       "</table>\n",
       "<table class=\"simpletable\">\n",
       "<tr>\n",
       "  <th>Omnibus:</th>       <td>7487.800</td> <th>  Durbin-Watson:     </th> <td>   1.734</td> \n",
       "</tr>\n",
       "<tr>\n",
       "  <th>Prob(Omnibus):</th>  <td> 0.000</td>  <th>  Jarque-Bera (JB):  </th> <td>15756.374</td>\n",
       "</tr>\n",
       "<tr>\n",
       "  <th>Skew:</th>           <td>-1.796</td>  <th>  Prob(JB):          </th> <td>    0.00</td> \n",
       "</tr>\n",
       "<tr>\n",
       "  <th>Kurtosis:</th>       <td> 4.245</td>  <th>  Cond. No.          </th> <td>    3.02</td> \n",
       "</tr>\n",
       "</table>"
      ],
      "text/plain": [
       "<class 'statsmodels.iolib.summary.Summary'>\n",
       "\"\"\"\n",
       "                            OLS Regression Results                            \n",
       "==============================================================================\n",
       "Dep. Variable:                     sc   R-squared:                       0.003\n",
       "Model:                            OLS   Adj. R-squared:                  0.002\n",
       "Method:                 Least Squares   F-statistic:                     65.64\n",
       "Date:                Mon, 12 Feb 2018   Prob (F-statistic):           5.66e-16\n",
       "Time:                        10:18:18   Log-Likelihood:                -11171.\n",
       "No. Observations:               26155   AIC:                         2.235e+04\n",
       "Df Residuals:                   26153   BIC:                         2.236e+04\n",
       "Df Model:                           1                                         \n",
       "Covariance Type:            nonrobust                                         \n",
       "=====================================================================================\n",
       "                        coef    std err          t      P>|t|      [0.025      0.975]\n",
       "-------------------------------------------------------------------------------------\n",
       "Intercept             0.8109      0.004    217.190      0.000       0.804       0.818\n",
       "progresa[T.basal]     0.0383      0.005      8.102      0.000       0.029       0.048\n",
       "==============================================================================\n",
       "Omnibus:                     7487.800   Durbin-Watson:                   1.734\n",
       "Prob(Omnibus):                  0.000   Jarque-Bera (JB):            15756.374\n",
       "Skew:                          -1.796   Prob(JB):                         0.00\n",
       "Kurtosis:                       4.245   Cond. No.                         3.02\n",
       "==============================================================================\n",
       "\n",
       "Warnings:\n",
       "[1] Standard Errors assume that the covariance matrix of the errors is correctly specified.\n",
       "\"\"\""
      ]
     },
     "execution_count": 496,
     "metadata": {},
     "output_type": "execute_result"
    }
   ],
   "source": [
    "model = smf.ols(formula='sc ~ progresa', data=df_98)\n",
    "result = model.fit()\n",
    "result.summary()"
   ]
  },
  {
   "cell_type": "markdown",
   "metadata": {
    "ein.tags": "worksheet-0",
    "slideshow": {
     "slide_type": "-"
    }
   },
   "source": [
    "From the OLS regression results, we can see that progresa will increase the likelihood of a child enrolling by .0383. However, our low R-squared value indicates that there may be other control variables that affect the outcome of the enrollment rate. \n",
    "\n",
    "Comparing the previous t-test estimate and our findings, the two results do align as the p-values for both are fairly small. The difference between the two groups are also the same as the coefficent found in our data table. \n",
    "\n",
    "This does further supports our notion of rejecting the null hypothesis and that the two means are statistically different. However, we should do more work and include other data variables within our regression to show goodness of fit. "
   ]
  },
  {
   "cell_type": "markdown",
   "metadata": {
    "ein.tags": "worksheet-0",
    "slideshow": {
     "slide_type": "-"
    }
   },
   "source": [
    "### 2.3 Multiple Regression\n",
    "\n",
    "Re-run the above regression estimated but this time include a set of\n",
    "relevant control variables. Include, for instance, age, distance to a secondary\n",
    "school, gender, education of household head, welfare index,\n",
    "indigenous, etc.\n",
    "\n",
    "* How do the controls affect the point estimate of treatment effect?\n",
    "* How do the controls affect the standard error on the treatment effect? \n",
    "* How do you interpret the differences (or similarities) between your estimates of 2.2 and 2.3?"
   ]
  },
  {
   "cell_type": "code",
   "execution_count": 449,
   "metadata": {
    "autoscroll": false,
    "ein.tags": "worksheet-0",
    "slideshow": {
     "slide_type": "-"
    }
   },
   "outputs": [
    {
     "data": {
      "text/html": [
       "<table class=\"simpletable\">\n",
       "<caption>OLS Regression Results</caption>\n",
       "<tr>\n",
       "  <th>Dep. Variable:</th>           <td>sc</td>        <th>  R-squared:         </th> <td>   0.268</td> \n",
       "</tr>\n",
       "<tr>\n",
       "  <th>Model:</th>                   <td>OLS</td>       <th>  Adj. R-squared:    </th> <td>   0.267</td> \n",
       "</tr>\n",
       "<tr>\n",
       "  <th>Method:</th>             <td>Least Squares</td>  <th>  F-statistic:       </th> <td>   1365.</td> \n",
       "</tr>\n",
       "<tr>\n",
       "  <th>Date:</th>             <td>Sun, 11 Feb 2018</td> <th>  Prob (F-statistic):</th>  <td>  0.00</td>  \n",
       "</tr>\n",
       "<tr>\n",
       "  <th>Time:</th>                 <td>23:55:24</td>     <th>  Log-Likelihood:    </th> <td> -7129.9</td> \n",
       "</tr>\n",
       "<tr>\n",
       "  <th>No. Observations:</th>      <td> 26155</td>      <th>  AIC:               </th> <td>1.428e+04</td>\n",
       "</tr>\n",
       "<tr>\n",
       "  <th>Df Residuals:</th>          <td> 26147</td>      <th>  BIC:               </th> <td>1.434e+04</td>\n",
       "</tr>\n",
       "<tr>\n",
       "  <th>Df Model:</th>              <td>     7</td>      <th>                     </th>     <td> </td>    \n",
       "</tr>\n",
       "<tr>\n",
       "  <th>Covariance Type:</th>      <td>nonrobust</td>    <th>                     </th>     <td> </td>    \n",
       "</tr>\n",
       "</table>\n",
       "<table class=\"simpletable\">\n",
       "<tr>\n",
       "          <td></td>             <th>coef</th>     <th>std err</th>      <th>t</th>      <th>P>|t|</th>  <th>[0.025</th>    <th>0.975]</th>  \n",
       "</tr>\n",
       "<tr>\n",
       "  <th>Intercept</th>         <td>    1.4630</td> <td>    0.011</td> <td>  137.045</td> <td> 0.000</td> <td>    1.442</td> <td>    1.484</td>\n",
       "</tr>\n",
       "<tr>\n",
       "  <th>progresa[T.basal]</th> <td>    0.0319</td> <td>    0.004</td> <td>    7.862</td> <td> 0.000</td> <td>    0.024</td> <td>    0.040</td>\n",
       "</tr>\n",
       "<tr>\n",
       "  <th>age</th>               <td>   -0.0651</td> <td>    0.001</td> <td>  -92.993</td> <td> 0.000</td> <td>   -0.066</td> <td>   -0.064</td>\n",
       "</tr>\n",
       "<tr>\n",
       "  <th>min_dist</th>          <td>    0.0006</td> <td> 4.97e-05</td> <td>   12.544</td> <td> 0.000</td> <td>    0.001</td> <td>    0.001</td>\n",
       "</tr>\n",
       "<tr>\n",
       "  <th>dist_sec</th>          <td>   -0.0103</td> <td>    0.001</td> <td>  -11.098</td> <td> 0.000</td> <td>   -0.012</td> <td>   -0.008</td>\n",
       "</tr>\n",
       "<tr>\n",
       "  <th>hohedu</th>            <td>    0.0079</td> <td>    0.001</td> <td>    9.979</td> <td> 0.000</td> <td>    0.006</td> <td>    0.009</td>\n",
       "</tr>\n",
       "<tr>\n",
       "  <th>indig</th>             <td>    0.0312</td> <td>    0.004</td> <td>    6.995</td> <td> 0.000</td> <td>    0.022</td> <td>    0.040</td>\n",
       "</tr>\n",
       "<tr>\n",
       "  <th>sex</th>               <td>    0.0303</td> <td>    0.004</td> <td>    7.704</td> <td> 0.000</td> <td>    0.023</td> <td>    0.038</td>\n",
       "</tr>\n",
       "</table>\n",
       "<table class=\"simpletable\">\n",
       "<tr>\n",
       "  <th>Omnibus:</th>       <td>2972.808</td> <th>  Durbin-Watson:     </th> <td>   1.727</td>\n",
       "</tr>\n",
       "<tr>\n",
       "  <th>Prob(Omnibus):</th>  <td> 0.000</td>  <th>  Jarque-Bera (JB):  </th> <td>4095.121</td>\n",
       "</tr>\n",
       "<tr>\n",
       "  <th>Skew:</th>           <td>-0.959</td>  <th>  Prob(JB):          </th> <td>    0.00</td>\n",
       "</tr>\n",
       "<tr>\n",
       "  <th>Kurtosis:</th>       <td> 3.281</td>  <th>  Cond. No.          </th> <td>    627.</td>\n",
       "</tr>\n",
       "</table>"
      ],
      "text/plain": [
       "<class 'statsmodels.iolib.summary.Summary'>\n",
       "\"\"\"\n",
       "                            OLS Regression Results                            \n",
       "==============================================================================\n",
       "Dep. Variable:                     sc   R-squared:                       0.268\n",
       "Model:                            OLS   Adj. R-squared:                  0.267\n",
       "Method:                 Least Squares   F-statistic:                     1365.\n",
       "Date:                Sun, 11 Feb 2018   Prob (F-statistic):               0.00\n",
       "Time:                        23:55:24   Log-Likelihood:                -7129.9\n",
       "No. Observations:               26155   AIC:                         1.428e+04\n",
       "Df Residuals:                   26147   BIC:                         1.434e+04\n",
       "Df Model:                           7                                         \n",
       "Covariance Type:            nonrobust                                         \n",
       "=====================================================================================\n",
       "                        coef    std err          t      P>|t|      [0.025      0.975]\n",
       "-------------------------------------------------------------------------------------\n",
       "Intercept             1.4630      0.011    137.045      0.000       1.442       1.484\n",
       "progresa[T.basal]     0.0319      0.004      7.862      0.000       0.024       0.040\n",
       "age                  -0.0651      0.001    -92.993      0.000      -0.066      -0.064\n",
       "min_dist              0.0006   4.97e-05     12.544      0.000       0.001       0.001\n",
       "dist_sec             -0.0103      0.001    -11.098      0.000      -0.012      -0.008\n",
       "hohedu                0.0079      0.001      9.979      0.000       0.006       0.009\n",
       "indig                 0.0312      0.004      6.995      0.000       0.022       0.040\n",
       "sex                   0.0303      0.004      7.704      0.000       0.023       0.038\n",
       "==============================================================================\n",
       "Omnibus:                     2972.808   Durbin-Watson:                   1.727\n",
       "Prob(Omnibus):                  0.000   Jarque-Bera (JB):             4095.121\n",
       "Skew:                          -0.959   Prob(JB):                         0.00\n",
       "Kurtosis:                       3.281   Cond. No.                         627.\n",
       "==============================================================================\n",
       "\n",
       "Warnings:\n",
       "[1] Standard Errors assume that the covariance matrix of the errors is correctly specified.\n",
       "\"\"\""
      ]
     },
     "execution_count": 449,
     "metadata": {},
     "output_type": "execute_result"
    }
   ],
   "source": [
    "model = smf.ols(formula='sc ~ progresa+age+min_dist+dist_sec+hohedu+indig+sex', data=df_98)\n",
    "result = model.fit()\n",
    "result.summary()"
   ]
  },
  {
   "cell_type": "markdown",
   "metadata": {
    "ein.tags": "worksheet-0",
    "slideshow": {
     "slide_type": "-"
    }
   },
   "source": [
    "With multi-variable regression, the progresa coefficent or the likelihood of enrolling falls from .0383 to .0319. The standard error also falls from .005 to .004. \n",
    "\n",
    "Before with no control variables, the coefficent is .0383 but is reduced when other variables are taken to account. This gives a better representation of what the actaul coeffecient would be including all other possible factors. \n",
    "Including these factors also increased the R-squared value, which further supplement how including other factors allows for a better model of the progresa program effect on enrollment. "
   ]
  },
  {
   "cell_type": "markdown",
   "metadata": {
    "ein.tags": "worksheet-0",
    "slideshow": {
     "slide_type": "-"
    }
   },
   "source": [
    "### 2.4 Difference-in-Difference, version 1 (tabular)\n",
    "\n",
    "Thus far, we have computed the effects of Progresa by estimating the\n",
    "difference in 1998 enrollment rates across villages. An alternative\n",
    "approach would be to compute the treatment effect using a\n",
    "difference-in-differences framework.\n",
    "\n",
    "Begin by estimating the average treatment effects of the program for poor households using data from 1997 and 1998. Specifically, calculate:\n",
    "\n",
    "a) the difference (between 1997 and 1998) in enrollment rates among poor households in treated villages\n",
    "\n",
    "b) the difference (between 1997 and 1998) in enrollment rates among poor households in control villages.\n",
    "\n",
    "c) The difference between these two differences is your estimate.\n",
    "\n",
    "* What is your estimate of the impact, and how does it compare to your earlier (simple difference) results?\n",
    "\n",
    "* What is the counterfactual assumption underlying this estimate? \n"
   ]
  },
  {
   "cell_type": "code",
   "execution_count": 487,
   "metadata": {
    "autoscroll": false,
    "ein.tags": "worksheet-0",
    "slideshow": {
     "slide_type": "-"
    }
   },
   "outputs": [
    {
     "name": "stdout",
     "output_type": "stream",
     "text": [
      "Treated Differences: 0.03541761951876088\n",
      "Controlled Differences: -0.004142465805002105\n",
      "Difference in Differences: 0.031275153713758774\n"
     ]
    }
   ],
   "source": [
    "data = pd.read_csv('progresa_sample.csv.gz')\n",
    "data = pd.DataFrame(data.query('poor==\"pobre\"')).dropna()\n",
    "\n",
    "control_98 = data.query('progresa==\"0\"').query('year==98')\n",
    "treatment_98 = data.query('progresa==\"basal\"').query('year==98')\n",
    "\n",
    "control_97 = data.query('progresa==\"0\"').query('year==97')\n",
    "treatment_97 = data.query('progresa==\"basal\"').query('year==97')\n",
    "\n",
    "treated_diff = treatment_98['sc'].mean() - treated_97['sc'].mean()\n",
    "control_diff = control_98['sc'].mean() - control_97['sc'].mean()\n",
    " \n",
    "print(\"Treated Differences:\", treated_diff)\n",
    "print(\"Controlled Differences:\", control_diff)\n",
    "print(\"Difference in Differences:\", treated_diff + control_diff)\n",
    " "
   ]
  },
  {
   "cell_type": "markdown",
   "metadata": {
    "ein.tags": "worksheet-0",
    "slideshow": {
     "slide_type": "-"
    }
   },
   "source": [
    "Calculating the averages for 1998 alone was very similar to the comparision of the difference in differences with 1997 - 1998: .0383 compared to .0396. \n",
    "\n",
    "The counterfactual assumption underlying this estimate is that considering all other control variables as constant, the progresa program caused the increase in likelihood of enrollment rate, or that in the absense of the progresa program, the enrollment rate should be the same within the years. \n",
    "\n",
    "The controlled differences are very close to 0, which is what we want as we are choosing a random representative sample that should be the same when there is no Progresa program that is applied and all other variables are the same. \n",
    "The treated differences can be observed from the fact that in 1998, the program was conducted while in 1997, only the baseline curvey was conducted. "
   ]
  },
  {
   "cell_type": "markdown",
   "metadata": {
    "ein.tags": "worksheet-0",
    "slideshow": {
     "slide_type": "-"
    }
   },
   "source": [
    "### 2.5 Difference-in-Difference, version 2 (regression)\n",
    "\n",
    "Now use a regression specification to estimate the average treatment\n",
    "effects of the program in a difference-in-differences\n",
    "framework. Include at least 5 control variables.\n",
    "\n",
    "* What is your estimate of the impact of Progresa? Be very specific in\n",
    "  interpreting your coefficients and standard errors, and make sure to\n",
    "  specify exactly what units you are measuring and estimating.\n",
    "\n",
    "* How do these estimates of the treatment effect compare to the\n",
    "  estimates based on the simple difference?\n",
    "\n",
    "* How do these estimates compare to the difference-in-difference\n",
    "  estimates from 2.4 above? What accounts for these differences?\n",
    "\n",
    "* What is the counterfactual assumption underlying this regression? "
   ]
  },
  {
   "cell_type": "code",
   "execution_count": 479,
   "metadata": {
    "autoscroll": false,
    "ein.tags": "worksheet-0",
    "slideshow": {
     "slide_type": "-"
    }
   },
   "outputs": [
    {
     "data": {
      "text/html": [
       "<table class=\"simpletable\">\n",
       "<caption>OLS Regression Results</caption>\n",
       "<tr>\n",
       "  <th>Dep. Variable:</th>           <td>sc</td>        <th>  R-squared:         </th> <td>   0.281</td> \n",
       "</tr>\n",
       "<tr>\n",
       "  <th>Model:</th>                   <td>OLS</td>       <th>  Adj. R-squared:    </th> <td>   0.281</td> \n",
       "</tr>\n",
       "<tr>\n",
       "  <th>Method:</th>             <td>Least Squares</td>  <th>  F-statistic:       </th> <td>   2223.</td> \n",
       "</tr>\n",
       "<tr>\n",
       "  <th>Date:</th>             <td>Mon, 12 Feb 2018</td> <th>  Prob (F-statistic):</th>  <td>  0.00</td>  \n",
       "</tr>\n",
       "<tr>\n",
       "  <th>Time:</th>                 <td>09:25:45</td>     <th>  Log-Likelihood:    </th> <td> -16073.</td> \n",
       "</tr>\n",
       "<tr>\n",
       "  <th>No. Observations:</th>      <td> 56893</td>      <th>  AIC:               </th> <td>3.217e+04</td>\n",
       "</tr>\n",
       "<tr>\n",
       "  <th>Df Residuals:</th>          <td> 56882</td>      <th>  BIC:               </th> <td>3.227e+04</td>\n",
       "</tr>\n",
       "<tr>\n",
       "  <th>Df Model:</th>              <td>    10</td>      <th>                     </th>     <td> </td>    \n",
       "</tr>\n",
       "<tr>\n",
       "  <th>Covariance Type:</th>      <td>nonrobust</td>    <th>                     </th>     <td> </td>    \n",
       "</tr>\n",
       "</table>\n",
       "<table class=\"simpletable\">\n",
       "<tr>\n",
       "                <td></td>                  <th>coef</th>     <th>std err</th>      <th>t</th>      <th>P>|t|</th>  <th>[0.025</th>    <th>0.975]</th>  \n",
       "</tr>\n",
       "<tr>\n",
       "  <th>Intercept</th>                    <td>    1.4218</td> <td>    0.009</td> <td>  156.734</td> <td> 0.000</td> <td>    1.404</td> <td>    1.440</td>\n",
       "</tr>\n",
       "<tr>\n",
       "  <th>progresa[T.basal]</th>            <td>    0.0019</td> <td>    0.004</td> <td>    0.515</td> <td> 0.606</td> <td>   -0.005</td> <td>    0.009</td>\n",
       "</tr>\n",
       "<tr>\n",
       "  <th>year[T.98]</th>                   <td>    0.0326</td> <td>    0.004</td> <td>    7.401</td> <td> 0.000</td> <td>    0.024</td> <td>    0.041</td>\n",
       "</tr>\n",
       "<tr>\n",
       "  <th>progresa[T.basal]:year[T.98]</th> <td>    0.0304</td> <td>    0.006</td> <td>    5.454</td> <td> 0.000</td> <td>    0.019</td> <td>    0.041</td>\n",
       "</tr>\n",
       "<tr>\n",
       "  <th>age</th>                          <td>   -0.0655</td> <td>    0.000</td> <td> -141.514</td> <td> 0.000</td> <td>   -0.066</td> <td>   -0.065</td>\n",
       "</tr>\n",
       "<tr>\n",
       "  <th>min_dist</th>                     <td>    0.0006</td> <td> 3.42e-05</td> <td>   16.969</td> <td> 0.000</td> <td>    0.001</td> <td>    0.001</td>\n",
       "</tr>\n",
       "<tr>\n",
       "  <th>dist_sec</th>                     <td>   -0.0097</td> <td>    0.001</td> <td>  -15.262</td> <td> 0.000</td> <td>   -0.011</td> <td>   -0.008</td>\n",
       "</tr>\n",
       "<tr>\n",
       "  <th>hohedu</th>                       <td>    0.0076</td> <td>    0.001</td> <td>   13.001</td> <td> 0.000</td> <td>    0.006</td> <td>    0.009</td>\n",
       "</tr>\n",
       "<tr>\n",
       "  <th>hohage</th>                       <td>    0.0003</td> <td>    0.000</td> <td>    2.588</td> <td> 0.010</td> <td> 8.22e-05</td> <td>    0.001</td>\n",
       "</tr>\n",
       "<tr>\n",
       "  <th>indig</th>                        <td>    0.0342</td> <td>    0.003</td> <td>   11.189</td> <td> 0.000</td> <td>    0.028</td> <td>    0.040</td>\n",
       "</tr>\n",
       "<tr>\n",
       "  <th>sex</th>                          <td>    0.0332</td> <td>    0.003</td> <td>   12.341</td> <td> 0.000</td> <td>    0.028</td> <td>    0.039</td>\n",
       "</tr>\n",
       "</table>\n",
       "<table class=\"simpletable\">\n",
       "<tr>\n",
       "  <th>Omnibus:</th>       <td>5479.202</td> <th>  Durbin-Watson:     </th> <td>   1.489</td>\n",
       "</tr>\n",
       "<tr>\n",
       "  <th>Prob(Omnibus):</th>  <td> 0.000</td>  <th>  Jarque-Bera (JB):  </th> <td>7234.508</td>\n",
       "</tr>\n",
       "<tr>\n",
       "  <th>Skew:</th>           <td>-0.871</td>  <th>  Prob(JB):          </th> <td>    0.00</td>\n",
       "</tr>\n",
       "<tr>\n",
       "  <th>Kurtosis:</th>       <td> 3.128</td>  <th>  Cond. No.          </th> <td>    850.</td>\n",
       "</tr>\n",
       "</table>"
      ],
      "text/plain": [
       "<class 'statsmodels.iolib.summary.Summary'>\n",
       "\"\"\"\n",
       "                            OLS Regression Results                            \n",
       "==============================================================================\n",
       "Dep. Variable:                     sc   R-squared:                       0.281\n",
       "Model:                            OLS   Adj. R-squared:                  0.281\n",
       "Method:                 Least Squares   F-statistic:                     2223.\n",
       "Date:                Mon, 12 Feb 2018   Prob (F-statistic):               0.00\n",
       "Time:                        09:25:45   Log-Likelihood:                -16073.\n",
       "No. Observations:               56893   AIC:                         3.217e+04\n",
       "Df Residuals:                   56882   BIC:                         3.227e+04\n",
       "Df Model:                          10                                         \n",
       "Covariance Type:            nonrobust                                         \n",
       "================================================================================================\n",
       "                                   coef    std err          t      P>|t|      [0.025      0.975]\n",
       "------------------------------------------------------------------------------------------------\n",
       "Intercept                        1.4218      0.009    156.734      0.000       1.404       1.440\n",
       "progresa[T.basal]                0.0019      0.004      0.515      0.606      -0.005       0.009\n",
       "year[T.98]                       0.0326      0.004      7.401      0.000       0.024       0.041\n",
       "progresa[T.basal]:year[T.98]     0.0304      0.006      5.454      0.000       0.019       0.041\n",
       "age                             -0.0655      0.000   -141.514      0.000      -0.066      -0.065\n",
       "min_dist                         0.0006   3.42e-05     16.969      0.000       0.001       0.001\n",
       "dist_sec                        -0.0097      0.001    -15.262      0.000      -0.011      -0.008\n",
       "hohedu                           0.0076      0.001     13.001      0.000       0.006       0.009\n",
       "hohage                           0.0003      0.000      2.588      0.010    8.22e-05       0.001\n",
       "indig                            0.0342      0.003     11.189      0.000       0.028       0.040\n",
       "sex                              0.0332      0.003     12.341      0.000       0.028       0.039\n",
       "==============================================================================\n",
       "Omnibus:                     5479.202   Durbin-Watson:                   1.489\n",
       "Prob(Omnibus):                  0.000   Jarque-Bera (JB):             7234.508\n",
       "Skew:                          -0.871   Prob(JB):                         0.00\n",
       "Kurtosis:                       3.128   Cond. No.                         850.\n",
       "==============================================================================\n",
       "\n",
       "Warnings:\n",
       "[1] Standard Errors assume that the covariance matrix of the errors is correctly specified.\n",
       "\"\"\""
      ]
     },
     "execution_count": 479,
     "metadata": {},
     "output_type": "execute_result"
    }
   ],
   "source": [
    "data = pd.read_csv('progresa_sample.csv.gz')\n",
    "data = pd.DataFrame(data.query('poor==\"pobre\"')).dropna()\n",
    "\n",
    "data['progresa'] = data['progresa'].astype('category')\n",
    "data['poor'] = data['poor'].astype('category')\n",
    "data['year'] = data['year'].astype('category')\n",
    "\n",
    "model = smf.ols(formula='sc ~ progresa+(progresa*year)+year+age+min_dist+dist_sec+hohedu+hohage+indig+sex', data=data)\n",
    "result = model.fit()\n",
    "result.summary()"
   ]
  },
  {
   "cell_type": "markdown",
   "metadata": {
    "ein.tags": "worksheet-0",
    "slideshow": {
     "slide_type": "-"
    }
   },
   "source": [
    "* What is your estimate of the impact of Progresa? Be very specific in\n",
    "  interpreting your coefficients and standard errors, and make sure to\n",
    "  specify exactly what units you are measuring and estimating.\n",
    "  \n",
    "The two coefficents we are focusing on are progresa[T.basal], and progresa[T.basal]:year[T.98]. \n",
    "Progresa now is .0019, with a standard error of .004, and a p value of .606. Since this is > .05, we will consider this not significant enough to be considered in our estimations.  \n",
    "progresa[T.basal]:year[T.98] is .0304 with a standard error of .006, and a p-value < .05, which indicates that those in the year 1998 with threatment has an increase in enrollment likelihood by .0304. While small (.006) we do see an increase in standard error, telling us that there is a bit more spread than in our findings in 2.3. \n",
    "\n",
    "* How do these estimates of the treatment effect compare to the\n",
    "  estimates based on the simple difference?\n",
    "  \n",
    "Compared to the simple difference, this estimate is more specific as it takes into account all the years over time that this was conducted rather than only the year of 1998 we did in the simple differences regression.  \n",
    "It shows that any change from the treatment year (1998) onwards is from the progresa program and that any changes documented before the treatment was not from the progresa program. Progresa coefficent alone is not significant enough, so it takes into account progressa*year. \n",
    ".0319 (simple) to .0304 (current) \n",
    "\n",
    "* How do these estimates compare to the difference-in-difference\n",
    "  estimates from 2.4 above? What accounts for these differences?\n",
    "  \n",
    "Again, compared to 2.4 from above that only took into account the years between 1997 and 1998, this estimate is more specific as it takes into account all the years. \n",
    ".039 (DiD) to .0304 (current) \n",
    "  \n",
    "* What is the counterfactual assumption underlying this regression? \n",
    "\n",
    "The counterfactual assumption: Keeping control variables as a constant, if the progresa program was not present in the treatement and base line years of 1997 to 1998 then there should be no difference between enrollment rates of (.0304) between the years. "
   ]
  },
  {
   "cell_type": "markdown",
   "metadata": {
    "ein.tags": "worksheet-0",
    "slideshow": {
     "slide_type": "-"
    }
   },
   "source": [
    "### 2.6 Summary\n",
    "\n",
    "* Based on all the analysis you have undertaken to date, do you\n",
    "  believe that Progresa had a causal impact on the enrollment rates of\n",
    "  poor households in Mexico?  Explain by referring to the methods and\n",
    "  results above."
   ]
  },
  {
   "cell_type": "markdown",
   "metadata": {
    "ein.tags": "worksheet-0",
    "slideshow": {
     "slide_type": "-"
    }
   },
   "source": [
    "We looked at numerous ways to calculate the effects of Progresa on the enrollment rates that gradually increased in specifications that led to the same conclusion that the Progresa program does indeed have a positive effect on enrollment rates. \n",
    "\n",
    "In our baseline 1.2 observation we saw that our p-values in the enrollment rates were not significant by just comparing the poor treatment in 1997, because this year was a time period that only a baseline survey was conducted. \n",
    "As we continue to 1.5 where we observed both years in treatment for 1997 and 1998 for poor villages, we obtained a p-value for the means of enrollment of .04, which showed a statistically significant difference. \n",
    "\n",
    "In 2.1 and 2.2 we restricted ourselves to only the years of 1998 where treatment was applied. We obtained a coefficent of .0383, and also had low p-values > .05 which again allowed us to reject the null hypothesis and state that there was a significant difference in enrollment rates. \n",
    "\n",
    "In 2.3, 2.4 and 2.5, with calculated a simple linear regression, multi-variable regression, and then DiD with treated and controlled villages. Each step better specified our estimate, and took into account the spread throughout the years, and other control variables that still led to a difference in enrollment rate that was statistically significant. \n",
    "\n",
    "While the coefficents varied from caluclation to calculation, we continuously obtained the same result with low p-values < .05 that indicated statistical significance in coefficents with progresa over time. \n",
    "Bottom Line: Progresa has a causual impact on enrollment rates of treated villages over time.  "
   ]
  }
 ],
 "metadata": {
  "kernelspec": {
   "display_name": "Python 3",
   "language": "python",
   "name": "python3"
  },
  "language_info": {
   "codemirror_mode": {
    "name": "ipython",
    "version": 3
   },
   "file_extension": ".py",
   "mimetype": "text/x-python",
   "name": "python",
   "nbconvert_exporter": "python",
   "pygments_lexer": "ipython3",
   "version": "3.7.0"
  },
  "name": "ps03_progresa.ipynb"
 },
 "nbformat": 4,
 "nbformat_minor": 1
}
